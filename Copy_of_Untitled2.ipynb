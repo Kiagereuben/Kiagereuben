{
  "nbformat": 4,
  "nbformat_minor": 0,
  "metadata": {
    "colab": {
      "name": "Copy of Untitled2.ipynb",
      "provenance": [],
      "authorship_tag": "ABX9TyNJcYal+hzhXERAHB4MoFgl",
      "include_colab_link": true
    },
    "kernelspec": {
      "name": "python3",
      "display_name": "Python 3"
    },
    "language_info": {
      "name": "python"
    }
  },
  "cells": [
    {
      "cell_type": "markdown",
      "metadata": {
        "id": "view-in-github",
        "colab_type": "text"
      },
      "source": [
        "<a href=\"https://colab.research.google.com/github/Kiagereuben/Kiagereuben/blob/main/Copy_of_Untitled2.ipynb\" target=\"_parent\"><img src=\"https://colab.research.google.com/assets/colab-badge.svg\" alt=\"Open In Colab\"/></a>"
      ]
    },
    {
      "cell_type": "code",
      "execution_count": null,
      "metadata": {
        "colab": {
          "base_uri": "https://localhost:8080/"
        },
        "id": "zvQ6Jc-DubHo",
        "outputId": "e44092ec-d5e2-47fe-e0af-eefa40700b52"
      },
      "outputs": [
        {
          "output_type": "stream",
          "name": "stdout",
          "text": [
            "Hospital program John Smith 20 years old new patient\n"
          ]
        }
      ],
      "source": [
        "program = (\"Hospital program\")\n",
        "patient_name = (\"John Smith\")\n",
        "age = (\"20 years old\")\n",
        "status = (\"new patient\")\n",
        "print(program,patient_name,age,status)\n",
        "\n",
        "\n",
        "\n"
      ]
    }
  ]
}